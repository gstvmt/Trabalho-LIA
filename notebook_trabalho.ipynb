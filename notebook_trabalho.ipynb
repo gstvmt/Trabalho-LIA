{
 "cells": [
  {
   "cell_type": "code",
   "execution_count": 1,
   "id": "1fe89d79",
   "metadata": {},
   "outputs": [],
   "source": [
    "import cv2\n",
    "import time\n",
    "import numpy as np"
   ]
  },
  {
   "cell_type": "code",
   "execution_count": 2,
   "id": "c41df689",
   "metadata": {},
   "outputs": [],
   "source": [
    "colors = [(0,255,255), (255,255,0), (0,255,0), (255,0,0)]\n",
    "\n",
    "class_names = []\n",
    "with open('coco_names.txt','r') as f:\n",
    "    class_names = [cname.strip() for cname in f.readlines()]\n",
    "\n",
    "cap = cv2.VideoCapture(\"teste_carros.mp4\") # aqui vai algum video ou webcam\n",
    "\n",
    "# carregando os pesos da rede neural\n",
    "net = cv2.dnn.readNet('yolov4-tiny.weights', 'yolov4-tiny.cfg') # versao tiny\n",
    "# net = cv2.dnn.readNet('yolov4.weights', 'yolov4.cfg')\n",
    "\n",
    "# criando o modelo\n",
    "model = cv2.dnn.DetectionModel(net)\n",
    "model.setInputParams(size=(416,416), scale=(1/255)) # tiny\n",
    "# model.setInputParams(size=(608,608), scale=(1/255)) # para o yolo padrao\n",
    "\n",
    "# Lendo os frames do video\n",
    "while True:\n",
    "\n",
    "    _, frame = cap.read()\n",
    "    start = time.time()\n",
    "    classes, scores, boxes = model.detect(frame,0.1,0.2)\n",
    "    end = time.time()\n",
    "\n",
    "    for (classid, score, box) in zip(classes, scores, boxes):\n",
    "        color = colors[int(classid) % len(colors)]\n",
    "        label = f\"{class_names[classid]}: {score}\"\n",
    "        \n",
    "        cv2.rectangle(frame, box, color, 2)\n",
    "        cv2.putText(frame, label, (box[0], box[1] - 10), cv2.FONT_HERSHEY_COMPLEX, 0.5, color, 2)\n",
    "    \n",
    "    fps_label = f\"FPS: {round((1/(end - start)),2)}\"\n",
    "\n",
    "    cv2.putText(frame, fps_label, (0,25), cv2.FONT_HERSHEY_COMPLEX, 1, (0,0,0), 5)\n",
    "    cv2.putText(frame, fps_label, (0,25), cv2.FONT_HERSHEY_COMPLEX, 1, (0,255,0), 3)\n",
    "\n",
    "    cv2.imshow(\"detections\", frame)\n",
    "\n",
    "    if cv2.waitKey(1) == 27:\n",
    "        break\n",
    "\n",
    "cap.release()\n",
    "cv2.destroyAllWindows()"
   ]
  }
 ],
 "metadata": {
  "kernelspec": {
   "display_name": "Python 3 (ipykernel)",
   "language": "python",
   "name": "python3"
  },
  "language_info": {
   "codemirror_mode": {
    "name": "ipython",
    "version": 3
   },
   "file_extension": ".py",
   "mimetype": "text/x-python",
   "name": "python",
   "nbconvert_exporter": "python",
   "pygments_lexer": "ipython3",
   "version": "3.10.9"
  }
 },
 "nbformat": 4,
 "nbformat_minor": 5
}
